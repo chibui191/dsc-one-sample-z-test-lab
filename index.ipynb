{
 "cells": [
  {
   "cell_type": "markdown",
   "metadata": {},
   "source": [
    "# One-Sample z-test - Lab\n",
    "\n",
    "## Introduction\n",
    "In this lab, you'll perform a few quick tests to help you better understand how hypothesis testing works.\n",
    "\n",
    "## Objectives\n",
    "You will be able to:\n",
    "\n",
    "* Explain use cases for a 1-sample z-test\n",
    "* Set up null and alternative hypotheses\n",
    "* Use the z-table and scipy methods to acquire the p value for a given z-score\n",
    "* Calculate and interpret p-value for significance of results\n",
    "\n",
    "## Exercise 1\n",
    "A fast-food chain claims that the mean time to order food at their restaurants is 60 seconds, with a standard deviation of 30 seconds. You decide to put this claim to the test and go to one of the restaurants to observe actual waiting times. You take a sample of 36 customers and find that the mean order time was 75 seconds. Does this finding provide enough evidence to contradict the fast food chain's claim of fast service?\n",
    "\n",
    "Follow the 5 steps shown in previous lesson and use $\\alpha$ = 0.05. "
   ]
  },
  {
   "cell_type": "code",
   "execution_count": 6,
   "metadata": {},
   "outputs": [],
   "source": [
    "# STEP 1: State your null and alternative hypotheses\n",
    "\n",
    "# Alternative Hypothesis: sample mean is significantly greater than population mean\n",
    "# H_a: mu < x_bar\n",
    "\n",
    "# Null Hypothesis: No significant difference between sample mean and population mean\n",
    "# H_0: mu >= x_bar\n",
    "\n",
    "# STEP 2: alpha = 0.05"
   ]
  },
  {
   "cell_type": "code",
   "execution_count": 1,
   "metadata": {},
   "outputs": [
    {
     "data": {
      "text/plain": [
       "3.0"
      ]
     },
     "execution_count": 1,
     "metadata": {},
     "output_type": "execute_result"
    }
   ],
   "source": [
    "# Your solution here\n",
    "# STEP 3: Calculate test statistics\n",
    "import math\n",
    "import numpy as np\n",
    "\n",
    "mu = 60\n",
    "sigma = 30\n",
    "n = 36\n",
    "x_bar = 75\n",
    "\n",
    "z = (x_bar - mu) / (sigma / math.sqrt(36))\n",
    "z\n",
    "\n",
    "# (p = 0.0013498980316301035, z = 3.0)"
   ]
  },
  {
   "cell_type": "code",
   "execution_count": 6,
   "metadata": {
    "scrolled": true
   },
   "outputs": [
    {
     "data": {
      "image/png": "[encoded data removed]",
      "text/plain": [
       "<Figure size 576x396 with 1 Axes>"
      ]
     },
     "metadata": {},
     "output_type": "display_data"
    }
   ],
   "source": [
    "# Visualization \n",
    "import scipy.stats as stats\n",
    "import matplotlib.pyplot as plt\n",
    "%matplotlib inline\n",
    "\n",
    "plt.style.use('seaborn')\n",
    "plt.fill_between(x=np.arange(-4, z, 0.01),\n",
    "                 y1=stats.norm.pdf(np.arange(-4, z, 0.01)),\n",
    "                 facecolor='red',\n",
    "                 alpha=0.35,\n",
    "                 label='Area below z-statistic')\n",
    "\n",
    "plt.fill_between(x=np.arange(z, 4, 0.01),\n",
    "                 y1=stats.norm.pdf(np.arange(z, 4, 0.01)),\n",
    "                 facecolor='blue',\n",
    "                 alpha=0.35,\n",
    "                 label='Area above z-statistic')\n",
    "\n",
    "plt.legend()\n",
    "plt.title(f'z-statistic = {z}');"
   ]
  },
  {
   "cell_type": "code",
   "execution_count": 7,
   "metadata": {},
   "outputs": [
    {
     "data": {
      "text/plain": [
       "0.0013498980316301035"
      ]
     },
     "execution_count": 7,
     "metadata": {},
     "output_type": "execute_result"
    }
   ],
   "source": [
    "# STEP 4: Calculate p-value\n",
    "pval = 1 - stats.norm.cdf(z)\n",
    "pval"
   ]
  },
  {
   "cell_type": "code",
   "execution_count": 8,
   "metadata": {},
   "outputs": [],
   "source": [
    "# STEP 5: Interpret the results in terms of the p-value\n",
    "# p-value = 0.00135 (< alpha) \n",
    "# --> Given the evidence and an alpha value of 0.05, the results show sample average ordering time is \n",
    "# significantly greater than claimed ordering time given "
   ]
  },
  {
   "cell_type": "markdown",
   "metadata": {},
   "source": [
    "## Exercise 2\n",
    "\n",
    "25 students complete a preparation program for taking the SAT test.  Here are the SAT scores from the 25 students who completed the program:\n",
    "\n",
    "``\n",
    "434 694 457 534 720 400 484 478 610 641 425 636 454 \n",
    "514 563 370 499 640 501 625 612 471 598 509 531\n",
    "``\n",
    "\n",
    "We know that the population average for SAT scores is 500 with a standard deviation of 100.\n",
    "\n",
    "Are our 25 students’ SAT scores significantly higher than the population's mean score? \n",
    "\n",
    "*Note that the SAT preparation program claims that it will increase (and not decrease) the SAT score.  So, you can conduct a one-directional test. (alpha = .05).*"
   ]
  },
  {
   "cell_type": "code",
   "execution_count": null,
   "metadata": {},
   "outputs": [],
   "source": [
    "# STEP 1: State your hypotheses \n",
    "\n",
    "# Alternative Hypothesis: Sample's average SAT score is significantly greater than population's average SAT score\n",
    "# H_a: mu < x_bar\n",
    "\n",
    "# Null Hypothesis: Sample's average SAT score is NOT significantly different from population's average SAT score\n",
    "# H_0: mu >= x_bar"
   ]
  },
  {
   "cell_type": "code",
   "execution_count": 13,
   "metadata": {},
   "outputs": [
    {
     "data": {
      "text/plain": [
       "1.8"
      ]
     },
     "execution_count": 13,
     "metadata": {},
     "output_type": "execute_result"
    }
   ],
   "source": [
    "# Give your solution here \n",
    "\n",
    "# STEP 2: alpha = 0.05\n",
    "\n",
    "# STEP 3: Calculate test statistic\n",
    "mu = 500\n",
    "sigma = 100\n",
    "sample = '434 694 457 534 720 400 484 478 610 641 425 636 454 514 563 370 499 640 501 625 612 471 598 509 531'\n",
    "sample_scores = np.array([int(x) for x in sample.split()])\n",
    "x_bar = sample_scores.mean()\n",
    "n = 25\n",
    "\n",
    "z = (x_bar - mu) / (sigma / math.sqrt(25))\n",
    "z\n",
    "# p = 0.03593031911292577, z = 1.8"
   ]
  },
  {
   "cell_type": "code",
   "execution_count": 14,
   "metadata": {},
   "outputs": [
    {
     "data": {
      "image/png": "[encoded data removed]",
      "text/plain": [
       "<Figure size 576x396 with 1 Axes>"
      ]
     },
     "metadata": {},
     "output_type": "display_data"
    }
   ],
   "source": [
    "# Visualization\n",
    "plt.style.use('seaborn')\n",
    "plt.fill_between(x=np.arange(-4, z, 0.01),\n",
    "                 y1=stats.norm.pdf(np.arange(-4, z, 0.01)),\n",
    "                 facecolor='red',\n",
    "                 alpha=0.35,\n",
    "                 label='Area below z-statistic')\n",
    "\n",
    "plt.fill_between(x=np.arange(z, 4, 0.01),\n",
    "                 y1=stats.norm.pdf(np.arange(z, 4, 0.01)),\n",
    "                 facecolor='blue',\n",
    "                 alpha=0.35,\n",
    "                 label='Area above z-statistic')\n",
    "\n",
    "plt.legend()\n",
    "plt.title(f'z-statistic = {z}');"
   ]
  },
  {
   "cell_type": "code",
   "execution_count": 15,
   "metadata": {},
   "outputs": [
    {
     "data": {
      "text/plain": [
       "0.03593031911292577"
      ]
     },
     "execution_count": 15,
     "metadata": {},
     "output_type": "execute_result"
    }
   ],
   "source": [
    "# STEP 4: calculate p-value\n",
    "pval = 1 - stats.norm.cdf(z)\n",
    "pval"
   ]
  },
  {
   "cell_type": "code",
   "execution_count": 20,
   "metadata": {},
   "outputs": [],
   "source": [
    "# Interpret the results in terms of the p-value\n",
    "# p-value = 0.0359 < 0.05 (alpha)\n",
    "# --> Given the evidence and an alpha value of 0.05, the results show a significant increase in SAT score as a \n",
    "# result of completing the preparation program "
   ]
  },
  {
   "cell_type": "markdown",
   "metadata": {},
   "source": [
    "## Summary\n",
    "\n",
    "In this lesson, you conducted a couple of simple tests comparing sample and population means, in an attempt to reject our null hypotheses. This provides you with a strong foundation to move ahead with more advanced tests and approaches later on."
   ]
  }
 ],
 "metadata": {
  "kernelspec": {
   "display_name": "Python 3",
   "language": "python",
   "name": "python3"
  },
  "language_info": {
   "codemirror_mode": {
    "name": "ipython",
    "version": 3
   },
   "file_extension": ".py",
   "mimetype": "text/x-python",
   "name": "python",
   "nbconvert_exporter": "python",
   "pygments_lexer": "ipython3",
   "version": "3.8.5"
  },
  "toc": {
   "base_numbering": 1,
   "nav_menu": {},
   "number_sections": true,
   "sideBar": true,
   "skip_h1_title": false,
   "title_cell": "Table of Contents",
   "title_sidebar": "Contents",
   "toc_cell": false,
   "toc_position": {},
   "toc_section_display": true,
   "toc_window_display": false
  }
 },
 "nbformat": 4,
 "nbformat_minor": 2
}
